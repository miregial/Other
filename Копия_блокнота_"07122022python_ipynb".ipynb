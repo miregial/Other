{
  "nbformat": 4,
  "nbformat_minor": 0,
  "metadata": {
    "colab": {
      "provenance": [],
      "include_colab_link": true
    },
    "kernelspec": {
      "name": "python3",
      "display_name": "Python 3"
    },
    "language_info": {
      "name": "python"
    }
  },
  "cells": [
    {
      "cell_type": "markdown",
      "metadata": {
        "id": "view-in-github",
        "colab_type": "text"
      },
      "source": [
        "<a href=\"https://colab.research.google.com/github/miregial/Other/blob/master/%D0%9A%D0%BE%D0%BF%D0%B8%D1%8F_%D0%B1%D0%BB%D0%BE%D0%BA%D0%BD%D0%BE%D1%82%D0%B0_%2207122022python_ipynb%22.ipynb\" target=\"_parent\"><img src=\"https://colab.research.google.com/assets/colab-badge.svg\" alt=\"Open In Colab\"/></a>"
      ]
    },
    {
      "cell_type": "code",
      "execution_count": 66,
      "metadata": {
        "id": "0IcAqRMWTzop"
      },
      "outputs": [],
      "source": [
        "import pandas as pd\n",
        "import numpy as np\n",
        "import matplotlib.pyplot as plt\n",
        "import seaborn as sns"
      ]
    },
    {
      "cell_type": "code",
      "source": [
        "df=pd.DataFrame({'sex:':np.random.choice(['male','female'],p=(0.3,0.7),size=1000),\n",
        "              'age:':np.round(np.random.normal(35,3,size=1000),0)})\n",
        "df[:5]"
      ],
      "metadata": {
        "colab": {
          "base_uri": "https://localhost:8080/",
          "height": 206
        },
        "id": "hagODtqGUqCS",
        "outputId": "190c4a34-8427-43be-863e-689a10090887"
      },
      "execution_count": 67,
      "outputs": [
        {
          "output_type": "execute_result",
          "data": {
            "text/plain": [
              "   sex:  age:\n",
              "0  male  40.0\n",
              "1  male  39.0\n",
              "2  male  37.0\n",
              "3  male  36.0\n",
              "4  male  35.0"
            ],
            "text/html": [
              "\n",
              "  <div id=\"df-83e36e9e-d165-4684-879a-ca1e2a03d528\">\n",
              "    <div class=\"colab-df-container\">\n",
              "      <div>\n",
              "<style scoped>\n",
              "    .dataframe tbody tr th:only-of-type {\n",
              "        vertical-align: middle;\n",
              "    }\n",
              "\n",
              "    .dataframe tbody tr th {\n",
              "        vertical-align: top;\n",
              "    }\n",
              "\n",
              "    .dataframe thead th {\n",
              "        text-align: right;\n",
              "    }\n",
              "</style>\n",
              "<table border=\"1\" class=\"dataframe\">\n",
              "  <thead>\n",
              "    <tr style=\"text-align: right;\">\n",
              "      <th></th>\n",
              "      <th>sex:</th>\n",
              "      <th>age:</th>\n",
              "    </tr>\n",
              "  </thead>\n",
              "  <tbody>\n",
              "    <tr>\n",
              "      <th>0</th>\n",
              "      <td>male</td>\n",
              "      <td>40.0</td>\n",
              "    </tr>\n",
              "    <tr>\n",
              "      <th>1</th>\n",
              "      <td>male</td>\n",
              "      <td>39.0</td>\n",
              "    </tr>\n",
              "    <tr>\n",
              "      <th>2</th>\n",
              "      <td>male</td>\n",
              "      <td>37.0</td>\n",
              "    </tr>\n",
              "    <tr>\n",
              "      <th>3</th>\n",
              "      <td>male</td>\n",
              "      <td>36.0</td>\n",
              "    </tr>\n",
              "    <tr>\n",
              "      <th>4</th>\n",
              "      <td>male</td>\n",
              "      <td>35.0</td>\n",
              "    </tr>\n",
              "  </tbody>\n",
              "</table>\n",
              "</div>\n",
              "      <button class=\"colab-df-convert\" onclick=\"convertToInteractive('df-83e36e9e-d165-4684-879a-ca1e2a03d528')\"\n",
              "              title=\"Convert this dataframe to an interactive table.\"\n",
              "              style=\"display:none;\">\n",
              "        \n",
              "  <svg xmlns=\"http://www.w3.org/2000/svg\" height=\"24px\"viewBox=\"0 0 24 24\"\n",
              "       width=\"24px\">\n",
              "    <path d=\"M0 0h24v24H0V0z\" fill=\"none\"/>\n",
              "    <path d=\"M18.56 5.44l.94 2.06.94-2.06 2.06-.94-2.06-.94-.94-2.06-.94 2.06-2.06.94zm-11 1L8.5 8.5l.94-2.06 2.06-.94-2.06-.94L8.5 2.5l-.94 2.06-2.06.94zm10 10l.94 2.06.94-2.06 2.06-.94-2.06-.94-.94-2.06-.94 2.06-2.06.94z\"/><path d=\"M17.41 7.96l-1.37-1.37c-.4-.4-.92-.59-1.43-.59-.52 0-1.04.2-1.43.59L10.3 9.45l-7.72 7.72c-.78.78-.78 2.05 0 2.83L4 21.41c.39.39.9.59 1.41.59.51 0 1.02-.2 1.41-.59l7.78-7.78 2.81-2.81c.8-.78.8-2.07 0-2.86zM5.41 20L4 18.59l7.72-7.72 1.47 1.35L5.41 20z\"/>\n",
              "  </svg>\n",
              "      </button>\n",
              "      \n",
              "  <style>\n",
              "    .colab-df-container {\n",
              "      display:flex;\n",
              "      flex-wrap:wrap;\n",
              "      gap: 12px;\n",
              "    }\n",
              "\n",
              "    .colab-df-convert {\n",
              "      background-color: #E8F0FE;\n",
              "      border: none;\n",
              "      border-radius: 50%;\n",
              "      cursor: pointer;\n",
              "      display: none;\n",
              "      fill: #1967D2;\n",
              "      height: 32px;\n",
              "      padding: 0 0 0 0;\n",
              "      width: 32px;\n",
              "    }\n",
              "\n",
              "    .colab-df-convert:hover {\n",
              "      background-color: #E2EBFA;\n",
              "      box-shadow: 0px 1px 2px rgba(60, 64, 67, 0.3), 0px 1px 3px 1px rgba(60, 64, 67, 0.15);\n",
              "      fill: #174EA6;\n",
              "    }\n",
              "\n",
              "    [theme=dark] .colab-df-convert {\n",
              "      background-color: #3B4455;\n",
              "      fill: #D2E3FC;\n",
              "    }\n",
              "\n",
              "    [theme=dark] .colab-df-convert:hover {\n",
              "      background-color: #434B5C;\n",
              "      box-shadow: 0px 1px 3px 1px rgba(0, 0, 0, 0.15);\n",
              "      filter: drop-shadow(0px 1px 2px rgba(0, 0, 0, 0.3));\n",
              "      fill: #FFFFFF;\n",
              "    }\n",
              "  </style>\n",
              "\n",
              "      <script>\n",
              "        const buttonEl =\n",
              "          document.querySelector('#df-83e36e9e-d165-4684-879a-ca1e2a03d528 button.colab-df-convert');\n",
              "        buttonEl.style.display =\n",
              "          google.colab.kernel.accessAllowed ? 'block' : 'none';\n",
              "\n",
              "        async function convertToInteractive(key) {\n",
              "          const element = document.querySelector('#df-83e36e9e-d165-4684-879a-ca1e2a03d528');\n",
              "          const dataTable =\n",
              "            await google.colab.kernel.invokeFunction('convertToInteractive',\n",
              "                                                     [key], {});\n",
              "          if (!dataTable) return;\n",
              "\n",
              "          const docLinkHtml = 'Like what you see? Visit the ' +\n",
              "            '<a target=\"_blank\" href=https://colab.research.google.com/notebooks/data_table.ipynb>data table notebook</a>'\n",
              "            + ' to learn more about interactive tables.';\n",
              "          element.innerHTML = '';\n",
              "          dataTable['output_type'] = 'display_data';\n",
              "          await google.colab.output.renderOutput(dataTable, element);\n",
              "          const docLink = document.createElement('div');\n",
              "          docLink.innerHTML = docLinkHtml;\n",
              "          element.appendChild(docLink);\n",
              "        }\n",
              "      </script>\n",
              "    </div>\n",
              "  </div>\n",
              "  "
            ]
          },
          "metadata": {},
          "execution_count": 67
        }
      ]
    },
    {
      "cell_type": "code",
      "source": [
        "df['sex:'].value_counts().plot(kind='bar')"
      ],
      "metadata": {
        "colab": {
          "base_uri": "https://localhost:8080/",
          "height": 308
        },
        "id": "QagNpsZMVtTD",
        "outputId": "b90b2d21-6b8c-4ae3-b52b-381527021376"
      },
      "execution_count": 68,
      "outputs": [
        {
          "output_type": "execute_result",
          "data": {
            "text/plain": [
              "<matplotlib.axes._subplots.AxesSubplot at 0x7f48721f9ca0>"
            ]
          },
          "metadata": {},
          "execution_count": 68
        },
        {
          "output_type": "display_data",
          "data": {
            "text/plain": [
              "<Figure size 432x288 with 1 Axes>"
            ],
            "image/png": "[encoded data removed]"
          },
          "metadata": {
            "needs_background": "light"
          }
        }
      ]
    },
    {
      "cell_type": "code",
      "source": [
        "df['sex:'].value_counts().plot(kind='pie')"
      ],
      "metadata": {
        "colab": {
          "base_uri": "https://localhost:8080/",
          "height": 266
        },
        "id": "XsO7fPZxV8W7",
        "outputId": "640f8eb7-0a34-42f0-f979-13de86b92044"
      },
      "execution_count": 69,
      "outputs": [
        {
          "output_type": "execute_result",
          "data": {
            "text/plain": [
              "<matplotlib.axes._subplots.AxesSubplot at 0x7f4871d00cd0>"
            ]
          },
          "metadata": {},
          "execution_count": 69
        },
        {
          "output_type": "display_data",
          "data": {
            "text/plain": [
              "<Figure size 432x288 with 1 Axes>"
            ],
            "image/png": "[encoded data removed]"
          },
          "metadata": {}
        }
      ]
    },
    {
      "cell_type": "code",
      "source": [
        "fig=plt.Figure()"
      ],
      "metadata": {
        "id": "M4lh8S11WKri"
      },
      "execution_count": 70,
      "outputs": []
    },
    {
      "cell_type": "code",
      "source": [
        "fig"
      ],
      "metadata": {
        "colab": {
          "base_uri": "https://localhost:8080/"
        },
        "id": "-Jh_H5irXDs7",
        "outputId": "399d9243-579b-4bac-e852-74ecf757f27c"
      },
      "execution_count": 71,
      "outputs": [
        {
          "output_type": "execute_result",
          "data": {
            "text/plain": [
              "<Figure size 432x288 with 0 Axes>"
            ]
          },
          "metadata": {},
          "execution_count": 71
        }
      ]
    },
    {
      "cell_type": "code",
      "source": [
        "%matplotlib inline"
      ],
      "metadata": {
        "id": "1bIX1hfXXFWS"
      },
      "execution_count": 72,
      "outputs": []
    },
    {
      "cell_type": "code",
      "source": [
        "fig.add_axes((0,0,10,10))"
      ],
      "metadata": {
        "colab": {
          "base_uri": "https://localhost:8080/"
        },
        "id": "nNbPGiDYXSTx",
        "outputId": "20635938-6b4b-4921-de8b-ee729552eb7b"
      },
      "execution_count": 73,
      "outputs": [
        {
          "output_type": "execute_result",
          "data": {
            "text/plain": [
              "<matplotlib.axes._axes.Axes at 0x7f4871cb9730>"
            ]
          },
          "metadata": {},
          "execution_count": 73
        }
      ]
    },
    {
      "cell_type": "code",
      "source": [
        "fig.axes"
      ],
      "metadata": {
        "colab": {
          "base_uri": "https://localhost:8080/"
        },
        "id": "PsPGjPYDXTsq",
        "outputId": "1cf271c7-688d-4527-a76b-d170111a1ecf"
      },
      "execution_count": 74,
      "outputs": [
        {
          "output_type": "execute_result",
          "data": {
            "text/plain": [
              "[<matplotlib.axes._axes.Axes at 0x7f4871cb9730>]"
            ]
          },
          "metadata": {},
          "execution_count": 74
        }
      ]
    },
    {
      "cell_type": "code",
      "source": [
        "fig.ax = plt.subplots()"
      ],
      "metadata": {
        "colab": {
          "base_uri": "https://localhost:8080/",
          "height": 269
        },
        "id": "mBCI4VuFYGr4",
        "outputId": "a05b11ce-9034-4db7-f725-ad24aa004bae"
      },
      "execution_count": 75,
      "outputs": [
        {
          "output_type": "display_data",
          "data": {
            "text/plain": [
              "<Figure size 432x288 with 1 Axes>"
            ],
            "image/png": "[encoded data removed]"
          },
          "metadata": {
            "needs_background": "light"
          }
        }
      ]
    },
    {
      "cell_type": "code",
      "source": [
        "dir(ax[0])"
      ],
      "metadata": {
        "colab": {
          "base_uri": "https://localhost:8080/"
        },
        "id": "3LB5joyUaBpg",
        "outputId": "df06078e-9897-4e58-dd96-52ea2daefca6"
      },
      "execution_count": 79,
      "outputs": [
        {
          "output_type": "execute_result",
          "data": {
            "text/plain": [
              "['__class__',\n",
              " '__delattr__',\n",
              " '__dict__',\n",
              " '__dir__',\n",
              " '__doc__',\n",
              " '__eq__',\n",
              " '__format__',\n",
              " '__ge__',\n",
              " '__getattribute__',\n",
              " '__getstate__',\n",
              " '__gt__',\n",
              " '__hash__',\n",
              " '__init__',\n",
              " '__init_subclass__',\n",
              " '__le__',\n",
              " '__lt__',\n",
              " '__module__',\n",
              " '__ne__',\n",
              " '__new__',\n",
              " '__reduce__',\n",
              " '__reduce_ex__',\n",
              " '__repr__',\n",
              " '__setattr__',\n",
              " '__setstate__',\n",
              " '__sizeof__',\n",
              " '__str__',\n",
              " '__subclasshook__',\n",
              " '__weakref__',\n",
              " '_add_text',\n",
              " '_adjustable',\n",
              " '_agg_filter',\n",
              " '_alpha',\n",
              " '_anchor',\n",
              " '_animated',\n",
              " '_aspect',\n",
              " '_autoscaleXon',\n",
              " '_autoscaleYon',\n",
              " '_autotitlepos',\n",
              " '_axes',\n",
              " '_axes_class',\n",
              " '_axes_locator',\n",
              " '_axisbelow',\n",
              " '_clipon',\n",
              " '_clippath',\n",
              " '_contains',\n",
              " '_convert_dx',\n",
              " '_current_image',\n",
              " '_default_contains',\n",
              " '_facecolor',\n",
              " '_frameon',\n",
              " '_gci',\n",
              " '_gen_axes_patch',\n",
              " '_gen_axes_spines',\n",
              " '_get_axis_list',\n",
              " '_get_axis_map',\n",
              " '_get_clipping_extent_bbox',\n",
              " '_get_lines',\n",
              " '_get_patches_for_fill',\n",
              " '_get_view',\n",
              " '_gid',\n",
              " '_gridOn',\n",
              " '_in_layout',\n",
              " '_init_axis',\n",
              " '_label',\n",
              " '_layoutbox',\n",
              " '_left_title',\n",
              " '_make_twin_axes',\n",
              " '_mouseover',\n",
              " '_mouseover_set',\n",
              " '_navigate',\n",
              " '_navigate_mode',\n",
              " '_oid',\n",
              " '_on_units_changed',\n",
              " '_originalPosition',\n",
              " '_parse_scatter_color_args',\n",
              " '_path_effects',\n",
              " '_pcolorargs',\n",
              " '_picker',\n",
              " '_position',\n",
              " '_poslayoutbox',\n",
              " '_process_unit_info',\n",
              " '_prop_order',\n",
              " '_propobservers',\n",
              " '_quiver_units',\n",
              " '_rasterization_zorder',\n",
              " '_rasterized',\n",
              " '_remove_legend',\n",
              " '_remove_method',\n",
              " '_request_autoscale_view',\n",
              " '_right_title',\n",
              " '_sci',\n",
              " '_set_artist_props',\n",
              " '_set_gc_clip',\n",
              " '_set_lim_and_transforms',\n",
              " '_set_position',\n",
              " '_set_title_offset_trans',\n",
              " '_set_view',\n",
              " '_set_view_from_bbox',\n",
              " '_shared_x_axes',\n",
              " '_shared_y_axes',\n",
              " '_sharex',\n",
              " '_sharey',\n",
              " '_sketch',\n",
              " '_snap',\n",
              " '_stale',\n",
              " '_stale_viewlim_x',\n",
              " '_stale_viewlim_y',\n",
              " '_sticky_edges',\n",
              " '_subplotspec',\n",
              " '_tight',\n",
              " '_transform',\n",
              " '_transformSet',\n",
              " '_twinned_axes',\n",
              " '_unstale_viewLim',\n",
              " '_update_image_limits',\n",
              " '_update_line_limits',\n",
              " '_update_patch_limits',\n",
              " '_update_title_position',\n",
              " '_update_transScale',\n",
              " '_url',\n",
              " '_use_sticky_edges',\n",
              " '_validate_converted_limits',\n",
              " '_viewLim',\n",
              " '_visible',\n",
              " '_xaxis_transform',\n",
              " '_xcid',\n",
              " '_xmargin',\n",
              " '_yaxis_transform',\n",
              " '_ycid',\n",
              " '_ymargin',\n",
              " 'acorr',\n",
              " 'add_artist',\n",
              " 'add_callback',\n",
              " 'add_child_axes',\n",
              " 'add_collection',\n",
              " 'add_container',\n",
              " 'add_image',\n",
              " 'add_line',\n",
              " 'add_patch',\n",
              " 'add_table',\n",
              " 'aname',\n",
              " 'angle_spectrum',\n",
              " 'annotate',\n",
              " 'apply_aspect',\n",
              " 'arrow',\n",
              " 'artists',\n",
              " 'autoscale',\n",
              " 'autoscale_view',\n",
              " 'axes',\n",
              " 'axhline',\n",
              " 'axhspan',\n",
              " 'axis',\n",
              " 'axison',\n",
              " 'axvline',\n",
              " 'axvspan',\n",
              " 'bar',\n",
              " 'barbs',\n",
              " 'barh',\n",
              " 'bbox',\n",
              " 'boxplot',\n",
              " 'broken_barh',\n",
              " 'bxp',\n",
              " 'callbacks',\n",
              " 'can_pan',\n",
              " 'can_zoom',\n",
              " 'change_geometry',\n",
              " 'child_axes',\n",
              " 'cla',\n",
              " 'clabel',\n",
              " 'clear',\n",
              " 'clipbox',\n",
              " 'cohere',\n",
              " 'colNum',\n",
              " 'collections',\n",
              " 'containers',\n",
              " 'contains',\n",
              " 'contains_point',\n",
              " 'contour',\n",
              " 'contourf',\n",
              " 'convert_xunits',\n",
              " 'convert_yunits',\n",
              " 'csd',\n",
              " 'dataLim',\n",
              " 'drag_pan',\n",
              " 'draw',\n",
              " 'draw_artist',\n",
              " 'end_pan',\n",
              " 'errorbar',\n",
              " 'eventplot',\n",
              " 'eventson',\n",
              " 'figbox',\n",
              " 'figure',\n",
              " 'fill',\n",
              " 'fill_between',\n",
              " 'fill_betweenx',\n",
              " 'findobj',\n",
              " 'fmt_xdata',\n",
              " 'fmt_ydata',\n",
              " 'format_coord',\n",
              " 'format_cursor_data',\n",
              " 'format_xdata',\n",
              " 'format_ydata',\n",
              " 'get_adjustable',\n",
              " 'get_agg_filter',\n",
              " 'get_alpha',\n",
              " 'get_anchor',\n",
              " 'get_animated',\n",
              " 'get_aspect',\n",
              " 'get_autoscale_on',\n",
              " 'get_autoscalex_on',\n",
              " 'get_autoscaley_on',\n",
              " 'get_axes_locator',\n",
              " 'get_axisbelow',\n",
              " 'get_children',\n",
              " 'get_clip_box',\n",
              " 'get_clip_on',\n",
              " 'get_clip_path',\n",
              " 'get_contains',\n",
              " 'get_cursor_data',\n",
              " 'get_data_ratio',\n",
              " 'get_data_ratio_log',\n",
              " 'get_default_bbox_extra_artists',\n",
              " 'get_facecolor',\n",
              " 'get_fc',\n",
              " 'get_figure',\n",
              " 'get_frame_on',\n",
              " 'get_geometry',\n",
              " 'get_gid',\n",
              " 'get_gridspec',\n",
              " 'get_images',\n",
              " 'get_in_layout',\n",
              " 'get_label',\n",
              " 'get_legend',\n",
              " 'get_legend_handles_labels',\n",
              " 'get_lines',\n",
              " 'get_navigate',\n",
              " 'get_navigate_mode',\n",
              " 'get_path_effects',\n",
              " 'get_picker',\n",
              " 'get_position',\n",
              " 'get_rasterization_zorder',\n",
              " 'get_rasterized',\n",
              " 'get_renderer_cache',\n",
              " 'get_shared_x_axes',\n",
              " 'get_shared_y_axes',\n",
              " 'get_sketch_params',\n",
              " 'get_snap',\n",
              " 'get_subplotspec',\n",
              " 'get_tightbbox',\n",
              " 'get_title',\n",
              " 'get_transform',\n",
              " 'get_transformed_clip_path_and_affine',\n",
              " 'get_url',\n",
              " 'get_visible',\n",
              " 'get_window_extent',\n",
              " 'get_xaxis',\n",
              " 'get_xaxis_text1_transform',\n",
              " 'get_xaxis_text2_transform',\n",
              " 'get_xaxis_transform',\n",
              " 'get_xbound',\n",
              " 'get_xgridlines',\n",
              " 'get_xlabel',\n",
              " 'get_xlim',\n",
              " 'get_xmajorticklabels',\n",
              " 'get_xminorticklabels',\n",
              " 'get_xscale',\n",
              " 'get_xticklabels',\n",
              " 'get_xticklines',\n",
              " 'get_xticks',\n",
              " 'get_yaxis',\n",
              " 'get_yaxis_text1_transform',\n",
              " 'get_yaxis_text2_transform',\n",
              " 'get_yaxis_transform',\n",
              " 'get_ybound',\n",
              " 'get_ygridlines',\n",
              " 'get_ylabel',\n",
              " 'get_ylim',\n",
              " 'get_ymajorticklabels',\n",
              " 'get_yminorticklabels',\n",
              " 'get_yscale',\n",
              " 'get_yticklabels',\n",
              " 'get_yticklines',\n",
              " 'get_yticks',\n",
              " 'get_zorder',\n",
              " 'grid',\n",
              " 'has_data',\n",
              " 'have_units',\n",
              " 'hexbin',\n",
              " 'hist',\n",
              " 'hist2d',\n",
              " 'hlines',\n",
              " 'ignore_existing_data_limits',\n",
              " 'images',\n",
              " 'imshow',\n",
              " 'in_axes',\n",
              " 'indicate_inset',\n",
              " 'indicate_inset_zoom',\n",
              " 'inset_axes',\n",
              " 'invert_xaxis',\n",
              " 'invert_yaxis',\n",
              " 'is_first_col',\n",
              " 'is_first_row',\n",
              " 'is_last_col',\n",
              " 'is_last_row',\n",
              " 'is_transform_set',\n",
              " 'label_outer',\n",
              " 'legend',\n",
              " 'legend_',\n",
              " 'lines',\n",
              " 'locator_params',\n",
              " 'loglog',\n",
              " 'magnitude_spectrum',\n",
              " 'margins',\n",
              " 'matshow',\n",
              " 'minorticks_off',\n",
              " 'minorticks_on',\n",
              " 'mouseover',\n",
              " 'name',\n",
              " 'numCols',\n",
              " 'numRows',\n",
              " 'patch',\n",
              " 'patches',\n",
              " 'pchanged',\n",
              " 'pcolor',\n",
              " 'pcolorfast',\n",
              " 'pcolormesh',\n",
              " 'phase_spectrum',\n",
              " 'pick',\n",
              " 'pickable',\n",
              " 'pie',\n",
              " 'plot',\n",
              " 'plot_date',\n",
              " 'properties',\n",
              " 'psd',\n",
              " 'quiver',\n",
              " 'quiverkey',\n",
              " 'redraw_in_frame',\n",
              " 'relim',\n",
              " 'remove',\n",
              " 'remove_callback',\n",
              " 'reset_position',\n",
              " 'rowNum',\n",
              " 'scatter',\n",
              " 'secondary_xaxis',\n",
              " 'secondary_yaxis',\n",
              " 'semilogx',\n",
              " 'semilogy',\n",
              " 'set',\n",
              " 'set_adjustable',\n",
              " 'set_agg_filter',\n",
              " 'set_alpha',\n",
              " 'set_anchor',\n",
              " 'set_animated',\n",
              " 'set_aspect',\n",
              " 'set_autoscale_on',\n",
              " 'set_autoscalex_on',\n",
              " 'set_autoscaley_on',\n",
              " 'set_axes_locator',\n",
              " 'set_axis_off',\n",
              " 'set_axis_on',\n",
              " 'set_axisbelow',\n",
              " 'set_clip_box',\n",
              " 'set_clip_on',\n",
              " 'set_clip_path',\n",
              " 'set_contains',\n",
              " 'set_facecolor',\n",
              " 'set_fc',\n",
              " 'set_figure',\n",
              " 'set_frame_on',\n",
              " 'set_gid',\n",
              " 'set_in_layout',\n",
              " 'set_label',\n",
              " 'set_navigate',\n",
              " 'set_navigate_mode',\n",
              " 'set_path_effects',\n",
              " 'set_picker',\n",
              " 'set_position',\n",
              " 'set_prop_cycle',\n",
              " 'set_rasterization_zorder',\n",
              " 'set_rasterized',\n",
              " 'set_sketch_params',\n",
              " 'set_snap',\n",
              " 'set_subplotspec',\n",
              " 'set_title',\n",
              " 'set_transform',\n",
              " 'set_url',\n",
              " 'set_visible',\n",
              " 'set_xbound',\n",
              " 'set_xlabel',\n",
              " 'set_xlim',\n",
              " 'set_xmargin',\n",
              " 'set_xscale',\n",
              " 'set_xticklabels',\n",
              " 'set_xticks',\n",
              " 'set_ybound',\n",
              " 'set_ylabel',\n",
              " 'set_ylim',\n",
              " 'set_ymargin',\n",
              " 'set_yscale',\n",
              " 'set_yticklabels',\n",
              " 'set_yticks',\n",
              " 'set_zorder',\n",
              " 'specgram',\n",
              " 'spines',\n",
              " 'spy',\n",
              " 'stackplot',\n",
              " 'stale',\n",
              " 'stale_callback',\n",
              " 'start_pan',\n",
              " 'stem',\n",
              " 'step',\n",
              " 'sticky_edges',\n",
              " 'streamplot',\n",
              " 'table',\n",
              " 'tables',\n",
              " 'text',\n",
              " 'texts',\n",
              " 'tick_params',\n",
              " 'ticklabel_format',\n",
              " 'title',\n",
              " 'titleOffsetTrans',\n",
              " 'transAxes',\n",
              " 'transData',\n",
              " 'transLimits',\n",
              " 'transScale',\n",
              " 'tricontour',\n",
              " 'tricontourf',\n",
              " 'tripcolor',\n",
              " 'triplot',\n",
              " 'twinx',\n",
              " 'twiny',\n",
              " 'update',\n",
              " 'update_datalim',\n",
              " 'update_datalim_bounds',\n",
              " 'update_from',\n",
              " 'update_params',\n",
              " 'use_sticky_edges',\n",
              " 'viewLim',\n",
              " 'violin',\n",
              " 'violinplot',\n",
              " 'vlines',\n",
              " 'xaxis',\n",
              " 'xaxis_date',\n",
              " 'xaxis_inverted',\n",
              " 'xcorr',\n",
              " 'yaxis',\n",
              " 'yaxis_date',\n",
              " 'yaxis_inverted',\n",
              " 'zorder']"
            ]
          },
          "metadata": {},
          "execution_count": 79
        }
      ]
    },
    {
      "cell_type": "code",
      "source": [
        "fig,ax=plt.subplots(1,2,figsize=(8,5))\n",
        "df['sex:'].value_counts().plot(kind='pie',ax=ax[0])\n",
        "ax[0].set_title('График 1')\n",
        "df['sex:'].value_counts().plot(kind='bar',ax=ax[1])\n",
        "ax[1].set_xticklabels(['assa', 'sfdfd'], rotation=110)\n",
        "#fig.get_tight_layout()\n",
        "#fig.get_tight_layout(tight=110)\n",
        "fig.set_figwidth(16)\n",
        "plt.show() #заморозить график в этом состояни и"
      ],
      "metadata": {
        "colab": {
          "base_uri": "https://localhost:8080/",
          "height": 330
        },
        "id": "8n-GNDIWYWlY",
        "outputId": "8b68f062-2195-420c-968c-c8964077f951"
      },
      "execution_count": 78,
      "outputs": [
        {
          "output_type": "display_data",
          "data": {
            "text/plain": [
              "<Figure size 1152x360 with 2 Axes>"
            ],
            "image/png": "[encoded data removed]"
          },
          "metadata": {
            "needs_background": "light"
          }
        }
      ]
    },
    {
      "cell_type": "code",
      "source": [
        "#fig,ax=plt.subplots(2,1,figsize=(8,5))\n",
        "for sex in df['sex:'].unique():\n",
        "  fig,ax=plt.subplots(figsize=(8,5))\n",
        "  ax.boxplot(df[df['sex:']==sex]['age:'])\n",
        "  #df[df['sex:']==sex]['age:'].plot(kind='hist',ax=ax,title=sex)\n",
        "  plt.savefig('/content/'+sex+'.jpg')"
      ],
      "metadata": {
        "colab": {
          "base_uri": "https://localhost:8080/",
          "height": 623
        },
        "id": "b4wvRUZMd7oL",
        "outputId": "d5323093-33b1-45e2-9173-1be703ab737f"
      },
      "execution_count": 82,
      "outputs": [
        {
          "output_type": "display_data",
          "data": {
            "text/plain": [
              "<Figure size 576x360 with 1 Axes>"
            ],
            "image/png": "[encoded data removed]"
          },
          "metadata": {
            "needs_background": "light"
          }
        },
        {
          "output_type": "display_data",
          "data": {
            "text/plain": [
              "<Figure size 576x360 with 1 Axes>"
            ],
            "image/png": "[encoded data removed]"
          },
          "metadata": {
            "needs_background": "light"
          }
        }
      ]
    },
    {
      "cell_type": "code",
      "source": [],
      "metadata": {
        "id": "ywmmajLCc44-"
      },
      "execution_count": 82,
      "outputs": []
    }
  ]
}